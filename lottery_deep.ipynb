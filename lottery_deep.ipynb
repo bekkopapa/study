{
  "nbformat": 4,
  "nbformat_minor": 0,
  "metadata": {
    "colab": {
      "provenance": [],
      "toc_visible": true,
      "authorship_tag": "ABX9TyPNkCGxRoidOvwDHGwOTtat",
      "include_colab_link": true
    },
    "kernelspec": {
      "name": "python3",
      "display_name": "Python 3"
    },
    "language_info": {
      "name": "python"
    },
    "accelerator": "GPU",
    "gpuClass": "standard"
  },
  "cells": [
    {
      "cell_type": "markdown",
      "metadata": {
        "id": "view-in-github",
        "colab_type": "text"
      },
      "source": [
        "<a href=\"https://colab.research.google.com/github/bekkopapa/study/blob/main/lottery_deep.ipynb\" target=\"_parent\"><img src=\"https://colab.research.google.com/assets/colab-badge.svg\" alt=\"Open In Colab\"/></a>"
      ]
    },
    {
      "cell_type": "code",
      "source": [
        "\n",
        "from __future__ import absolute_import, division, print_function, unicode_literals\n",
        "!pip install 'h5py==2.10.0'"
      ],
      "metadata": {
        "colab": {
          "base_uri": "https://localhost:8080/"
        },
        "id": "u4-S0S9gcwEL",
        "outputId": "ef2216b5-fee4-42ab-aa82-fdf97e512235"
      },
      "execution_count": 10,
      "outputs": [
        {
          "output_type": "stream",
          "name": "stdout",
          "text": [
            "Looking in indexes: https://pypi.org/simple, https://us-python.pkg.dev/colab-wheels/public/simple/\n",
            "Collecting h5py==2.10.0\n",
            "  Using cached h5py-2.10.0.tar.gz (301 kB)\n",
            "  Preparing metadata (setup.py) ... \u001b[?25l\u001b[?25hdone\n",
            "Requirement already satisfied: numpy>=1.7 in /usr/local/lib/python3.10/dist-packages (from h5py==2.10.0) (1.22.4)\n",
            "Requirement already satisfied: six in /usr/local/lib/python3.10/dist-packages (from h5py==2.10.0) (1.16.0)\n",
            "Building wheels for collected packages: h5py\n",
            "  Building wheel for h5py (setup.py) ... \u001b[?25l\u001b[?25hdone\n",
            "  Created wheel for h5py: filename=h5py-2.10.0-cp310-cp310-linux_x86_64.whl size=5619499 sha256=5f4cf640ca29af5b5dcf7bd7ef5643a3f2eaae3e68aaf4692e317bb2d57793cd\n",
            "  Stored in directory: /root/.cache/pip/wheels/21/bc/58/0d0c6056e1339f40188d136cd838c6554d9c17545196dd9110\n",
            "Successfully built h5py\n",
            "Installing collected packages: h5py\n",
            "  Attempting uninstall: h5py\n",
            "    Found existing installation: h5py 3.8.0\n",
            "    Uninstalling h5py-3.8.0:\n",
            "      Successfully uninstalled h5py-3.8.0\n",
            "Successfully installed h5py-2.10.0\n"
          ]
        }
      ]
    },
    {
      "cell_type": "code",
      "source": [
        "import numpy as np\n",
        "\n",
        "rows = np.loadtxt(\"./lottery_data.csv\", delimiter=\",\")\n",
        "row_count = len(rows)\n",
        "print(row_count)"
      ],
      "metadata": {
        "colab": {
          "base_uri": "https://localhost:8080/"
        },
        "id": "V59RY-yqd1u-",
        "outputId": "9bebb826-1cbf-4c0b-d83a-d28c539de1a8"
      },
      "execution_count": 58,
      "outputs": [
        {
          "output_type": "stream",
          "name": "stdout",
          "text": [
            "157\n"
          ]
        }
      ]
    },
    {
      "cell_type": "code",
      "source": [
        "# 원본 데이터 로드\n",
        "import pandas as pd\n",
        "\n",
        "data = pd.read_csv('lottery_data.csv')\n",
        "rows = data.to_numpy()\n",
        "\n",
        "# 당첨 번호 정렬\n",
        "sorted_numbers = np.array([np.sort(row[1:7]) for row in rows])\n"
      ],
      "metadata": {
        "id": "CDHTbYwgiDTK"
      },
      "execution_count": 59,
      "outputs": []
    },
    {
      "cell_type": "code",
      "source": [
        "def numbers2sequence(numbers):\n",
        "    return np.array(numbers, dtype=int)\n",
        "\n",
        "def sequence2numbers(sequence):\n",
        "    return list(sequence)\n",
        "\n",
        "# 당첨 번호를 정수 시퀀스로 변환\n",
        "sequences = list(map(numbers2sequence, numbers))\n",
        "\n",
        "x_samples = sequences[0:row_count]\n",
        "y_samples = sequences[1:row_count]\n",
        "\n",
        "print(\"sequences\")\n",
        "print(\"X[0]: \" + str(x_samples[0]))\n",
        "print(\"Y[0]: \" + str(y_samples[0]))\n",
        "\n",
        "print(\"numbers\")\n",
        "print(\"X[0]: \" + str(sequence2numbers(x_samples[0])))\n",
        "print(\"Y[0]: \" + str(sequence2numbers(y_samples[0])))\n"
      ],
      "metadata": {
        "colab": {
          "base_uri": "https://localhost:8080/"
        },
        "id": "5QiAMbqMknra",
        "outputId": "643db42d-bb8d-4124-bf41-0ce61be6bb60"
      },
      "execution_count": 60,
      "outputs": [
        {
          "output_type": "stream",
          "name": "stdout",
          "text": [
            "sequences\n",
            "X[0]: [0 7 1 7 1 2]\n",
            "Y[0]: [7 3 9 5 8 6]\n",
            "numbers\n",
            "X[0]: [0, 7, 1, 7, 1, 2]\n",
            "Y[0]: [7, 3, 9, 5, 8, 6]\n"
          ]
        }
      ]
    },
    {
      "cell_type": "code",
      "source": [
        "import tensorflow as tf\n",
        "from tensorflow import keras\n",
        "\n",
        "# 데이터 준비\n",
        "# x_samples와 y_samples는 이전 단계에서 이미 준비한 것으로 가정합니다.\n",
        "x_train = np.array(x_samples[:-1])\n",
        "y_train = np.array(y_samples)\n",
        "\n",
        "# 모델 생성\n",
        "model = keras.Sequential([\n",
        "    keras.layers.Embedding(input_dim=10, output_dim=32, input_length=6), # 임베딩 레이어 추가\n",
        "    keras.layers.LSTM(128, return_sequences=False),\n",
        "    keras.layers.Dense(6, activation='relu') # 출력 레이어의 크기를 6으로 변경\n",
        "])\n",
        "\n",
        "# 컴파일\n",
        "model.compile(optimizer='adam', loss='mse', metrics=['accuracy'])\n",
        "\n",
        "# 모델 훈련\n",
        "history = model.fit(x_train, y_train, epochs=500, batch_size=1)\n"
      ],
      "metadata": {
        "id": "GNP4mHI9k_ex"
      },
      "execution_count": null,
      "outputs": []
    },
    {
      "cell_type": "code",
      "source": [
        "loss, accuracy = model.evaluate(x_train, y_train)\n",
        "print('Model loss:', loss)\n",
        "print('Model accuracy:', accuracy)\n"
      ],
      "metadata": {
        "colab": {
          "base_uri": "https://localhost:8080/"
        },
        "id": "cz7nqL2woD-K",
        "outputId": "120302b6-3e40-45e3-f9cf-7706872a3ce2"
      },
      "execution_count": 68,
      "outputs": [
        {
          "output_type": "stream",
          "name": "stdout",
          "text": [
            "5/5 [==============================] - 0s 4ms/step - loss: 0.0019 - accuracy: 0.8774\n",
            "Model loss: 0.001933670835569501\n",
            "Model accuracy: 0.8774193525314331\n"
          ]
        }
      ]
    },
    {
      "cell_type": "code",
      "source": [
        "predicted_sequence = model.predict(x_test)\n",
        "print(\"Predicted output sequence: \" + str(predicted_sequence))\n",
        "\n",
        "predicted_sequence = np.ceil(predicted_sequence)\n",
        "print(\"Rounded predicted output sequence: \" + str(predicted_sequence))\n"
      ],
      "metadata": {
        "colab": {
          "base_uri": "https://localhost:8080/"
        },
        "id": "a8d1CfCToT7x",
        "outputId": "531ac8d3-f9fc-4cc9-e8fc-d8b88bda5e28"
      },
      "execution_count": 76,
      "outputs": [
        {
          "output_type": "stream",
          "name": "stdout",
          "text": [
            "1/1 [==============================] - 0s 19ms/step\n",
            "Predicted output sequence: [[2.9710042 2.4851174 4.218071  5.1372676 5.6773643 2.9734757]]\n",
            "Rounded predicted output sequence: [[3. 3. 5. 6. 6. 3.]]\n"
          ]
        }
      ]
    },
    {
      "cell_type": "code",
      "source": [
        "model.save(\"lottery_model.h5\")\n"
      ],
      "metadata": {
        "id": "2odWxvNGrCU_"
      },
      "execution_count": 75,
      "outputs": []
    },
    {
      "cell_type": "code",
      "source": [
        "x_new = np.array([[2, 3, 4, 5, 7, 8]])\n",
        "y_pred = model.predict(x_new)\n",
        "print(\"Predicted output sequence:\", np.round(y_pred))\n"
      ],
      "metadata": {
        "colab": {
          "base_uri": "https://localhost:8080/"
        },
        "id": "LyhKk8E1tZ-k",
        "outputId": "d803910a-5d1d-493e-b2be-e4535e454a96"
      },
      "execution_count": 84,
      "outputs": [
        {
          "output_type": "stream",
          "name": "stdout",
          "text": [
            "1/1 [==============================] - 0s 22ms/step\n",
            "Predicted output sequence: [[6. 7. 7. 0. 6. 6.]]\n"
          ]
        }
      ]
    }
  ]
}